{
 "cells": [
  {
   "cell_type": "code",
   "id": "initial_id",
   "metadata": {
    "collapsed": true,
    "ExecuteTime": {
     "end_time": "2025-09-04T17:27:49.678261Z",
     "start_time": "2025-09-04T17:27:49.675529Z"
    }
   },
   "source": [
    "from langchain_community.document_loaders import TextLoader\n",
    "from langchain_text_splitters import CharacterTextSplitter\n",
    "from langchain_openai import OpenAIEmbeddings\n",
    "from langchain_chroma import Chroma"
   ],
   "outputs": [],
   "execution_count": 11
  },
  {
   "metadata": {
    "ExecuteTime": {
     "end_time": "2025-09-04T17:27:49.688383Z",
     "start_time": "2025-09-04T17:27:49.685156Z"
    }
   },
   "cell_type": "code",
   "source": [
    "from dotenv import load_dotenv\n",
    "\n",
    "load_dotenv() #On lit l'API de OPENAI"
   ],
   "id": "b0ca3cf01a560800",
   "outputs": [
    {
     "data": {
      "text/plain": [
       "True"
      ]
     },
     "execution_count": 12,
     "metadata": {},
     "output_type": "execute_result"
    }
   ],
   "execution_count": 12
  },
  {
   "metadata": {
    "ExecuteTime": {
     "end_time": "2025-09-04T17:27:49.712243Z",
     "start_time": "2025-09-04T17:27:49.697243Z"
    }
   },
   "cell_type": "code",
   "source": [
    "import pandas as pd\n",
    "\n",
    "content = pd.read_csv(\"Content/content_cleaned.csv\")"
   ],
   "id": "a2f570f9e53eebb7",
   "outputs": [],
   "execution_count": 13
  },
  {
   "metadata": {
    "ExecuteTime": {
     "end_time": "2025-09-04T17:27:49.732693Z",
     "start_time": "2025-09-04T17:27:49.728588Z"
    }
   },
   "cell_type": "code",
   "source": [
    "content[\"tagged_text\"].to_csv(\"Content/Text/tagged_text.txt\", lineterminator=\"\\n\", index=False, header=False)\n",
    "content[\"tagged_caption\"].to_csv(\"Content/Text/tagged_caption.txt\", lineterminator=\"\\n\", index=False, header=False)\n",
    "#On prend \"text\" et \"caption\" et on le transforme en un fichier txt"
   ],
   "id": "93ea24500d32d259",
   "outputs": [],
   "execution_count": 14
  },
  {
   "metadata": {
    "ExecuteTime": {
     "end_time": "2025-09-04T17:27:49.752027Z",
     "start_time": "2025-09-04T17:27:49.736770Z"
    }
   },
   "cell_type": "code",
   "source": [
    "raw_documents = TextLoader(\"Content/Text/tagged_caption.txt\", encoding=\"utf-8\").load()\n",
    "text_splitter = CharacterTextSplitter(chunk_size=1, chunk_overlap=0)\n",
    "documents = text_splitter.split_documents(raw_documents)"
   ],
   "id": "989d678094a62689",
   "outputs": [
    {
     "name": "stderr",
     "output_type": "stream",
     "text": [
      "Created a chunk of size 1915, which is longer than the specified 1\n",
      "Created a chunk of size 220, which is longer than the specified 1\n",
      "Created a chunk of size 342, which is longer than the specified 1\n",
      "Created a chunk of size 297, which is longer than the specified 1\n",
      "Created a chunk of size 331, which is longer than the specified 1\n",
      "Created a chunk of size 148, which is longer than the specified 1\n",
      "Created a chunk of size 181, which is longer than the specified 1\n",
      "Created a chunk of size 386, which is longer than the specified 1\n",
      "Created a chunk of size 132, which is longer than the specified 1\n",
      "Created a chunk of size 263, which is longer than the specified 1\n",
      "Created a chunk of size 140, which is longer than the specified 1\n"
     ]
    }
   ],
   "execution_count": 15
  },
  {
   "metadata": {
    "ExecuteTime": {
     "end_time": "2025-09-04T17:27:51.294637Z",
     "start_time": "2025-09-04T17:27:49.774453Z"
    }
   },
   "cell_type": "code",
   "source": "db_content = Chroma.from_documents(documents, embedding=OpenAIEmbeddings())",
   "id": "203511413ec73071",
   "outputs": [],
   "execution_count": 16
  },
  {
   "metadata": {
    "ExecuteTime": {
     "end_time": "2025-09-04T17:28:32.535359Z",
     "start_time": "2025-09-04T17:28:32.334616Z"
    }
   },
   "cell_type": "code",
   "source": [
    "query = \"A woman who broke my heart\"\n",
    "docs = db_content.similarity_search(query, k=10)\n",
    "docs"
   ],
   "id": "45bed5f137843d0c",
   "outputs": [
    {
     "data": {
      "text/plain": [
       "[Document(id='f64cd1f5-2785-426c-962b-aa4a06ff5ad7', metadata={'source': 'Content/Text/tagged_caption.txt'}, page_content='a38f15ad-b8b5-4bb0-89a5-a8f44fd4d302: The woman that I would try  Is happy with a good guy  But I\\'ve been hackin\\' so much\\n\"48e1a3b8-bf01-413e-86de-6fa2010d4a71: Lucky that you stayed on  I need someone to put this weight on  Fuck, I\\'m sorry\"\\n44e2dd66-85a4-41c3-ad2b-abe4d7484258: We live in a generation of not being in love and not being together  But we sure make it feel like we\\'re together  \\'Cause we\\'re scared to see each other with somebody else\\n\"c4ce4c7a-0212-4749-ad65-91b69d7f661f: When a good thing goes bad, it\\'s not the end of the world  It\\'s just the end of a world that you had with one girl  And she\\'s the reason it happened, but she\\'s overreacting  And it\\'s all because she don\\'t want things to change\"\\n\"0b7e90ae-628c-480a-8d26-2b5307be9ebc: The biggest hit and second single from Kanye’s third studio album, Graduation, “Stronger” samples French electronic music duo Daft Punk’s “Harder, Better, Faster, Stronger,” which in turn samples Edwin Birdsong’s 1979 track, “Cola Bottle Baby.”\"\\n\"eea928f5-0ed9-402c-90b6-2dfd3c067799: So cry if you need to, but I can\\'t stay to watch you  That\\'s the wrong thing to do  Touch if you need to, but I can\\'t stay to hold you  That\\'s the wrong thing to do  Talk if you need to, but I can\\'t stay to hear you  That\\'s the wrong thing to do  \\'Cause you\\'ll say you love me, and I\\'ll end up lying  And say, \"\"I love you too\"\"\"\\n\"3cae97fe-1a34-4f50-9ddd-c68b16dc9ec1: Mama, just killed a man  Put a gun against his head, pulled my trigger, now he\\'s dead  Mama, life had just begun  But now I\\'ve gone and thrown it all away  Mama, ooh, didn\\'t mean to make you cry  If I\\'m not back again this time tomorrow  Carry on, carry on as if nothing really matters\"\\n9e24db17-ddd3-4272-9115-dddd9b5bc59e: What do you kmow about pain\\n\"42ba302a-c600-4d91-ae4e-d33958e16f24: The first track off Kanye West’s album 808s & Heartbreak. Sung primarily in autotune, and seen as a departure from old school Ye.    Kanye has explained in concert that this song is “about an ex-girlfriend you call on Friday nights just to have sex” and she “says she’ll come over but you wait all night and she still doesn’t come knocking on your door”    This song is highly criticised because of the prominent use of the auto-tune effect. This song (and album) was groundbreaking for Kanye West as an artist. As he demonstrated something totally different to what he usually did, people became worried that Kanye West pandered to the mainstream music audience in producing and writing this album.    On October 19th, 2015, Kanye released a remastered version, featuring violinist Caroline Shaw.\"\\n\"1b3a340a-4d1f-4504-a397-89a986dd076c: Kanye’s intro to his third album, Graduation, is a wake-up call to himself and the world. It also gives Kanye a chance to show off his polished lyrical abilities.    The song is part of a larger metaphor: The album Graduation is Kanye’s “graduation” in the rap game. “Good Morning” is told as if Kanye is waking up on his Graduation Day, reminiscing about his college days and finally receiving his “rapping degree” in the third verse. The school/college theme is very present throughout the song.    Kanye samples Jay-Z’s “The Ruler’s Back” and Elton John’s “Someone Saved My Life Tonight” (both artists have been featured on one of Kanye’s songs).    On a side note, as if writing and producing this track wasn’t enough, Ye also developed a creative storyline for a video – despite the song never being released as an actual single.    The music video for “Good Morning” is essentially the result of Japanese pop artist Takashi Murakami bringing to life the various designs he had composed for Graduation’s album artwork through the use of cel-shaded animation.\"\\n\"5eb1effb-24c3-4e11-a812-2eaac3cc33c1: In “Flashing Lights”, Kanye is found reminiscing about a flighty, capricious ex-girlfriend he can’t stop thinking about.    Similar to “Homecoming”, Kanye uses this girl as a metaphor for his public audience, to whose chaotic whims he’s forced to cater to.    There is also a video filmed during a studio session for Kanye’s 2010 magnum opus “My Beautiful Dark Twisted Fantasy” with Ye and longtime collaborator Charlie Wilson when they jam to the Flashing Lights instrumental. They sang the song with a new hook that goes:    Hey everybody, tonight’s the night  I’ve been waiting my whole life  Who would have known what it was like?  Running from these flashing lights    The song was later given to K-Pop group JYJ for their song Ayy Girl, which also featured Malik Yusef.\"\\n\"acb183c2-0a39-4280-8d30-61628fe76f5c: She said, \"\"You\\'re my everything\"\"  \"\"I love you through everything\"\"  I done did everything to her  She forgave me for everything  This a \"\"forever\"\" thing  Hate that I treat it like it\\'s a \"\"whatever\"\" thing  Trust me, girl, this shit is everything to me\"\\n\"92be2e4c-5967-4a9c-b000-b715d7a16f38: Are we still good? Are we still good?  If I need to talk, are you around?  Are you down for the cause?\"'),\n",
       " Document(id='6650c423-5e61-477f-9d4e-0dcabc638525', metadata={'source': 'Content/Text/tagged_caption.txt'}, page_content='\"a38f15ad-b8b5-4bb0-89a5-a8f44fd4d302: The woman that I would try\\nIs happy with a good guy\\nBut I\\'ve been hackin\\' so much\"\\n\"48e1a3b8-bf01-413e-86de-6fa2010d4a71: Lucky that you stayed on\\nI need someone to put this weight on\\nFuck, I\\'m sorry\"\\n\"44e2dd66-85a4-41c3-ad2b-abe4d7484258: We live in a generation of not being in love and not being together\\nBut we sure make it feel like we\\'re together\\n\\'Cause we\\'re scared to see each other with somebody else\"\\n\"c4ce4c7a-0212-4749-ad65-91b69d7f661f: When a good thing goes bad, it\\'s not the end of the world\\nIt\\'s just the end of a world that you had with one girl\\nAnd she\\'s the reason it happened, but she\\'s overreacting\\nAnd it\\'s all because she don\\'t want things to change\"\\n\"0b7e90ae-628c-480a-8d26-2b5307be9ebc: The biggest hit and second single from Kanye’s third studio album, Graduation, “Stronger” samples French electronic music duo Daft Punk’s “Harder, Better, Faster, Stronger,” which in turn samples Edwin Birdsong’s 1979 track, “Cola Bottle Baby.”\"\\n\"eea928f5-0ed9-402c-90b6-2dfd3c067799: So cry if you need to, but I can\\'t stay to watch you\\nThat\\'s the wrong thing to do\\nTouch if you need to, but I can\\'t stay to hold you\\nThat\\'s the wrong thing to do\\nTalk if you need to, but I can\\'t stay to hear you\\nThat\\'s the wrong thing to do\\n\\'Cause you\\'ll say you love me, and I\\'ll end up lying\\nAnd say, \"\"I love you too\"\"\"\\n\"3cae97fe-1a34-4f50-9ddd-c68b16dc9ec1: Mama, just killed a man\\nPut a gun against his head, pulled my trigger, now he\\'s dead\\nMama, life had just begun\\nBut now I\\'ve gone and thrown it all away\\nMama, ooh, didn\\'t mean to make you cry\\nIf I\\'m not back again this time tomorrow\\nCarry on, carry on as if nothing really matters\"\\n9e24db17-ddd3-4272-9115-dddd9b5bc59e: What do you kmow about pain\\n\"42ba302a-c600-4d91-ae4e-d33958e16f24: The first track off Kanye West’s album 808s & Heartbreak. Sung primarily in autotune, and seen as a departure from old school Ye.'),\n",
       " Document(id='7076d051-5392-49e1-acb1-ddd292298512', metadata={'source': 'Content/Text/tagged_caption.txt'}, page_content='Similar to “Homecoming”, Kanye uses this girl as a metaphor for his public audience, to whose chaotic whims he’s forced to cater to.'),\n",
       " Document(id='efea479d-a80b-4bd7-b69c-f813d5943fb7', metadata={'source': 'Content/Text/tagged_caption.txt'}, page_content='Kanye has explained in concert that this song is “about an ex-girlfriend you call on Friday nights just to have sex” and she “says she’ll come over but you wait all night and she still doesn’t come knocking on your door”'),\n",
       " Document(id='5708aea1-c4ef-48f8-893d-d237400bb1d1', metadata={'source': 'Content/Text/tagged_caption.txt'}, page_content='The song was later given to K-Pop group JYJ for their song Ayy Girl, which also featured Malik Yusef.\"\\n\"acb183c2-0a39-4280-8d30-61628fe76f5c: She said, \"\"You\\'re my everything\"\"\\n\"\"I love you through everything\"\"\\nI done did everything to her\\nShe forgave me for everything\\nThis a \"\"forever\"\" thing\\nHate that I treat it like it\\'s a \"\"whatever\"\" thing\\nTrust me, girl, this shit is everything to me\"\\n\"92be2e4c-5967-4a9c-b000-b715d7a16f38: Are we still good? Are we still good?\\nIf I need to talk, are you around?\\nAre you down for the cause?\"'),\n",
       " Document(id='5fc4ca27-b429-4108-a188-12fddd9c8384', metadata={'source': 'Content/Text/tagged_caption.txt'}, page_content='Hey everybody, tonight’s the night\\nI’ve been waiting my whole life\\nWho would have known what it was like?\\nRunning from these flashing lights'),\n",
       " Document(id='aebd478f-fa58-4559-a7a0-5b4f1a192b28', metadata={'source': 'Content/Text/tagged_caption.txt'}, page_content='On October 19th, 2015, Kanye released a remastered version, featuring violinist Caroline Shaw.\"\\n\"1b3a340a-4d1f-4504-a397-89a986dd076c: Kanye’s intro to his third album, Graduation, is a wake-up call to himself and the world. It also gives Kanye a chance to show off his polished lyrical abilities.'),\n",
       " Document(id='b75f5aed-d5ba-4535-a72f-ffda05836cc5', metadata={'source': 'Content/Text/tagged_caption.txt'}, page_content='The music video for “Good Morning” is essentially the result of Japanese pop artist Takashi Murakami bringing to life the various designs he had composed for Graduation’s album artwork through the use of cel-shaded animation.\"\\n\"5eb1effb-24c3-4e11-a812-2eaac3cc33c1: In “Flashing Lights”, Kanye is found reminiscing about a flighty, capricious ex-girlfriend he can’t stop thinking about.'),\n",
       " Document(id='09549dc1-972e-4523-9a41-537c6f050f6c', metadata={'source': 'Content/Text/tagged_caption.txt'}, page_content='There is also a video filmed during a studio session for Kanye’s 2010 magnum opus “My Beautiful Dark Twisted Fantasy” with Ye and longtime collaborator Charlie Wilson when they jam to the Flashing Lights instrumental. They sang the song with a new hook that goes:'),\n",
       " Document(id='52587ff7-6800-4469-91b0-1e235e972e68', metadata={'source': 'Content/Text/tagged_caption.txt'}, page_content='On a side note, as if writing and producing this track wasn’t enough, Ye also developed a creative storyline for a video – despite the song never being released as an actual single.')]"
      ]
     },
     "execution_count": 23,
     "metadata": {},
     "output_type": "execute_result"
    }
   ],
   "execution_count": 23
  },
  {
   "metadata": {
    "ExecuteTime": {
     "end_time": "2025-09-04T17:30:19.637210Z",
     "start_time": "2025-09-04T17:30:19.632383Z"
    }
   },
   "cell_type": "code",
   "source": [
    "\n",
    "content[content[\"id\"] == docs[0].page_content.split()[0].strip()] #L'on retrouve les elements important pour retrouver le contenu recommander\n",
    "docs[0].page_content.split()[0].strip()"
   ],
   "id": "c3127cdbf45823fb",
   "outputs": [
    {
     "data": {
      "text/plain": [
       "'a38f15ad-b8b5-4bb0-89a5-a8f44fd4d302:'"
      ]
     },
     "execution_count": 26,
     "metadata": {},
     "output_type": "execute_result"
    }
   ],
   "execution_count": 26
  },
  {
   "metadata": {
    "ExecuteTime": {
     "end_time": "2025-09-04T17:28:47.784201Z",
     "start_time": "2025-09-04T17:28:47.779973Z"
    }
   },
   "cell_type": "code",
   "source": [
    "#On cree une fonction qui va automatiser nos 3 dernieres cellules\n",
    "def retrieve_semantic_recommendations(query: str, top_k: int = 10) -> pd.DataFrame:\n",
    "    recs = db_content.similarity_search(query, k=50)\n",
    "\n",
    "    content_list = []\n",
    "    for i in range(0, len(recs)):\n",
    "        clean = recs[i].page_content.split()[0].strip()\n",
    "        content_list += [clean]\n",
    "\n",
    "    return content[content[\"id\"].isin(content_list)]"
   ],
   "id": "eed8b2492947a644",
   "outputs": [],
   "execution_count": 24
  },
  {
   "metadata": {
    "ExecuteTime": {
     "end_time": "2025-09-04T17:28:48.438377Z",
     "start_time": "2025-09-04T17:28:48.154193Z"
    }
   },
   "cell_type": "code",
   "source": "retrieve_semantic_recommendations(\"A woman who broke my heart\")",
   "id": "7687666503fe8267",
   "outputs": [
    {
     "data": {
      "text/plain": [
       "Empty DataFrame\n",
       "Columns: [id, user, text, image, caption, created_at, like, views, bookmarks, category, vote, tagged_text, tagged_caption]\n",
       "Index: []"
      ],
      "text/html": [
       "<div>\n",
       "<style scoped>\n",
       "    .dataframe tbody tr th:only-of-type {\n",
       "        vertical-align: middle;\n",
       "    }\n",
       "\n",
       "    .dataframe tbody tr th {\n",
       "        vertical-align: top;\n",
       "    }\n",
       "\n",
       "    .dataframe thead th {\n",
       "        text-align: right;\n",
       "    }\n",
       "</style>\n",
       "<table border=\"1\" class=\"dataframe\">\n",
       "  <thead>\n",
       "    <tr style=\"text-align: right;\">\n",
       "      <th></th>\n",
       "      <th>id</th>\n",
       "      <th>user</th>\n",
       "      <th>text</th>\n",
       "      <th>image</th>\n",
       "      <th>caption</th>\n",
       "      <th>created_at</th>\n",
       "      <th>like</th>\n",
       "      <th>views</th>\n",
       "      <th>bookmarks</th>\n",
       "      <th>category</th>\n",
       "      <th>vote</th>\n",
       "      <th>tagged_text</th>\n",
       "      <th>tagged_caption</th>\n",
       "    </tr>\n",
       "  </thead>\n",
       "  <tbody>\n",
       "  </tbody>\n",
       "</table>\n",
       "</div>"
      ]
     },
     "execution_count": 25,
     "metadata": {},
     "output_type": "execute_result"
    }
   ],
   "execution_count": 25
  }
 ],
 "metadata": {
  "kernelspec": {
   "display_name": "Python 3",
   "language": "python",
   "name": "python3"
  },
  "language_info": {
   "codemirror_mode": {
    "name": "ipython",
    "version": 2
   },
   "file_extension": ".py",
   "mimetype": "text/x-python",
   "name": "python",
   "nbconvert_exporter": "python",
   "pygments_lexer": "ipython2",
   "version": "2.7.6"
  }
 },
 "nbformat": 4,
 "nbformat_minor": 5
}
